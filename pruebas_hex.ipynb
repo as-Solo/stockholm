{
 "cells": [
  {
   "cell_type": "code",
   "execution_count": 193,
   "metadata": {},
   "outputs": [],
   "source": [
    "from  cryptography.fernet import Fernet\n",
    "import sys"
   ]
  },
  {
   "cell_type": "code",
   "execution_count": 424,
   "metadata": {},
   "outputs": [
    {
     "name": "stdout",
     "output_type": "stream",
     "text": [
      "aa87011b3a4f50b026a55c96482c58a17233e22e304926c311160860fc0921e655353350\n",
      "64\n",
      "b'>\\xa1c\\xf0\\xd0\\x9ao\\xa4P\\r\\xdf\\xe9,}>aB/\\xb3\\xcd\\xf4\\xf1/c\\xc9\\x0e\\x1e\\x8fa\\x17g\\x91'\n",
      "3ea163f0d09a6fa4500ddfe92c7d3e61422fb3cdf4f12f63c90e1e8f61176791\n",
      "64\n",
      "28328548754835856332224797427375978712292260908286471137262986318333875808145\n",
      "63f0d0\n",
      "654971\n"
     ]
    }
   ],
   "source": [
    "from Crypto.Hash import SHA256\n",
    "m = SHA256.new()\n",
    "r = 'aa87011b3a4f50b026a55c96482c58a17233e22e304926c311160860fc0921e6' + str(int(time()/30))\n",
    "print (r)\n",
    "m.update(r.encode())\n",
    "key = m.digest()\n",
    "print (len(key.hex()))\n",
    "print (key)\n",
    "print (key.hex())\n",
    "print (len(key.hex()))\n",
    "print (int(key.hex(), 16))\n",
    "print (key.hex()[4:10])\n",
    "numero = (key.hex()[4:10])\n",
    "print (str(int(numero, 16))[:6])"
   ]
  },
  {
   "cell_type": "code",
   "execution_count": 427,
   "metadata": {},
   "outputs": [
    {
     "name": "stdout",
     "output_type": "stream",
     "text": [
      "aa87011b3a4f50b026a55c96482c58a17233e22e304926c311160860fc0921e655353397\n",
      "64\n",
      "b'\\x17\\xde w\\x8f\\x80\\xd7\\x1eA\\xd9o\\xbd*\\xb8t\\x0e_\\xd7\\xab\\xe0\\xdb\\xce\\xf2\\x856i\\xe2\\xb12\\xc6v\\x97'\n",
      "17de20778f80d71e41d96fbd2ab8740e5fd7abe0dbcef2853669e2b132c67697\n",
      "64\n",
      "10795659645025338478766426882534266701606488103653910120581984572496606033559\n",
      "20778f\n",
      "212775\n"
     ]
    }
   ],
   "source": [
    "from Crypto.Hash import SHA256\n",
    "m = SHA256.new()\n",
    "r = 'aa87011b3a4f50b026a55c96482c58a17233e22e304926c311160860fc0921e6' + str(int(time()/30))\n",
    "print (r)\n",
    "m.update(r.encode())\n",
    "key = m.digest()\n",
    "print (len(key.hex()))\n",
    "print (key)\n",
    "print (key.hex())\n",
    "print (len(key.hex()))\n",
    "print (int(key.hex(), 16))\n",
    "print (key.hex()[4:10])\n",
    "numero = (key.hex()[4:10])\n",
    "print (str(int(numero, 16))[:6])"
   ]
  },
  {
   "cell_type": "code",
   "execution_count": 271,
   "metadata": {},
   "outputs": [
    {
     "name": "stdout",
     "output_type": "stream",
     "text": [
      "b'\\xaa\\x87\\x01\\x1b:OP\\xb0&\\xa5\\\\\\x96H,X\\xa1r3\\xe2.0I&\\xc3\\x11\\x16\\x08`\\xfc\\t!\\xe6'\n",
      "b'\\xaa\\x87\\x01\\x1b:OP\\xb0&\\xa5\\\\\\x96H,X\\xa1r3\\xe2.0I&\\xc3\\x11\\x16\\x08`\\xfc\\t!\\xe6'\n",
      "aa87011b3a4f50b026a55c96482c58a17233e22e304926c311160860fc0921e6\n",
      "6d65206c61207069636120756e20706f6c6c6f\n"
     ]
    }
   ],
   "source": [
    "print (key)\n",
    "print(bytes.fromhex(key.hex()))\n",
    "\n",
    "print (key.hex())\n",
    "#print (b'\\x1b:OP'.hex() ,\"     \", b'\\xb0&'.hex())\n",
    "\n",
    "print(\"me la pica un pollo\".encode().hex())"
   ]
  },
  {
   "cell_type": "code",
   "execution_count": 23,
   "metadata": {},
   "outputs": [
    {
     "name": "stdout",
     "output_type": "stream",
     "text": [
      "b'\\xaa\\x87\\x01\\x1b:OP\\xb0&\\xa5\\\\\\x96H,X\\xa1r3\\xe2.0I&\\xc3\\x11\\x16\\x08`\\xfc\\t!\\xe6'\n"
     ]
    }
   ],
   "source": [
    "print(bytes.fromhex(\"aa87011b3a4f50b026a55c96482c58a17233e22e304926c311160860fc0921e6\"))"
   ]
  },
  {
   "cell_type": "code",
   "execution_count": 21,
   "metadata": {},
   "outputs": [
    {
     "name": "stdout",
     "output_type": "stream",
     "text": [
      "505131474e585f57614c5246536e466a327563474d614b4165684b6570766645436d666853495f384163553d\n",
      "88\n",
      "b'gAAAAABi9_yEGluDLynjseGh1hLRZva9CM4x8ajjuQBvfyUelSSpuIAidbeAZhFm03pjibENByKzMV9ZBWtwdstEIdByxooyBM9J6FrHGL47wRwWj3wvi8E='\n",
      "b'me la pica un pollo'\n"
     ]
    }
   ],
   "source": [
    "mensaje = \"me la pica un pollo\"\n",
    "key = Fernet.generate_key()\n",
    "print (key.hex())\n",
    "print (len(key.hex()))\n",
    "f = Fernet(key)\n",
    "encriptado = f.encrypt(mensaje.encode())\n",
    "print  (encriptado)\n",
    "print (f.decrypt(encriptado))"
   ]
  },
  {
   "cell_type": "code",
   "execution_count": 32,
   "metadata": {},
   "outputs": [
    {
     "name": "stdout",
     "output_type": "stream",
     "text": [
      "754e487944617a64574169566243326444626b623238762d46546c383057587a345a4241396255312d47673d\n",
      "88\n",
      "b'gAAAAABi-A2nLyViixG_4YHiMUH_XuAoqyJ7oiJWaFMR04wLz5pqGAkSEycmeXqATo20suJcZ5x2BQ-eVjvwvnk92Wz_X7ssjhWCGQo36BGScd8HJpSHtt3ary0kBlGQ5yIhlZHRmxMtHiDAMu-gAx1nA0QjbO5SyVsrU8DyyhEdomEFs7eNvnA='\n",
      "b'aa87011b3a4f50b026a55c96482c58a17233e22e304926c311160860fc0921e6'\n"
     ]
    }
   ],
   "source": [
    "mensaje = \"aa87011b3a4f50b026a55c96482c58a17233e22e304926c311160860fc0921e6\"\n",
    "key = Fernet.generate_key()\n",
    "print (key.hex())\n",
    "print (len(key.hex()))\n",
    "f = Fernet(key)\n",
    "encriptado = f.encrypt(mensaje.encode())\n",
    "print  (encriptado)\n",
    "print (f.decrypt(encriptado))"
   ]
  },
  {
   "cell_type": "code",
   "execution_count": 28,
   "metadata": {},
   "outputs": [
    {
     "name": "stdout",
     "output_type": "stream",
     "text": [
      "yes\n"
     ]
    }
   ],
   "source": [
    "if (bytes.fromhex(\"aa87011b3a4f50b026a55c96482c58a17233e22e304926c311160860fc0921e6\")):\n",
    "    print ('yes')\n",
    "else:\n",
    "    print ('no')"
   ]
  },
  {
   "cell_type": "code",
   "execution_count": 261,
   "metadata": {},
   "outputs": [
    {
     "name": "stdout",
     "output_type": "stream",
     "text": [
      "100\n",
      "b'gAAAAABi-k-QxN1QB-3WbFLhGUYiPxlMT6Cn0XAblV6Rp7_5pV9XqKkYDywVkeUA2uClvtpDL9-NZ13sf6K-69DlSiZ256bXlA=='\n",
      "b'pamplona'\n"
     ]
    }
   ],
   "source": [
    "mensaje = \"pamplona\"\n",
    "key = Fernet.generate_key()\n",
    "\n",
    "f = Fernet(key)\n",
    "encriptado = f.encrypt(mensaje.encode())\n",
    "print  (len (encriptado))\n",
    "print (encriptado)\n",
    "print (f.decrypt(encriptado))"
   ]
  },
  {
   "cell_type": "code",
   "execution_count": 262,
   "metadata": {},
   "outputs": [
    {
     "name": "stdout",
     "output_type": "stream",
     "text": [
      "b'KP70gpF-WGMy1x0HrGUe8tEZj9UgRwi-gZ2a3Fcy-SE='\n",
      "KP70gpF-WGMy1x0HrGUe8tEZj9UgRwi-gZ2a3Fcy-SE=\n",
      "4b5037306770462d57474d7931783048724755653874455a6a3955675277692d675a3261334663792d53453d\n",
      "88\n",
      "2698922592412157901374252469024979696150670280491099487733031072017623719332791522004921549355593166439741\n",
      "106\n",
      "--------------------\n",
      "b'KP70gpF-WGMy1x0HrGUe8tEZj9UgRwi-gZ2a3Fcy-SE='\n"
     ]
    }
   ],
   "source": [
    "key = Fernet.generate_key()\n",
    "\n",
    "print (key)\n",
    "print (key.decode())\n",
    "print (key.hex())\n",
    "\n",
    "print (len(key.hex()))\n",
    "print (int(key.hex(), 16))\n",
    "print (len(str((int(key.hex(), 16)))))\n",
    "\n",
    "print (\"-\" * 20)\n",
    "print (bytes.fromhex(key.hex()))\n"
   ]
  },
  {
   "cell_type": "code",
   "execution_count": 264,
   "metadata": {},
   "outputs": [
    {
     "name": "stdout",
     "output_type": "stream",
     "text": [
      "55352385\n"
     ]
    }
   ],
   "source": [
    "from time import time\n",
    "i = time()\n",
    "print (int(i)//30)"
   ]
  },
  {
   "cell_type": "code",
   "execution_count": 266,
   "metadata": {},
   "outputs": [
    {
     "data": {
      "text/plain": [
       "1660571573.2159998"
      ]
     },
     "execution_count": 266,
     "metadata": {},
     "output_type": "execute_result"
    }
   ],
   "source": [
    "time()"
   ]
  },
  {
   "cell_type": "code",
   "execution_count": 222,
   "metadata": {},
   "outputs": [
    {
     "name": "stdout",
     "output_type": "stream",
     "text": [
      "64\n",
      "aa87011b3a4f50b026a55c96482c58a17233e22e304926c311160860fc0921e655350724\n",
      "b'\\xaa\\x87\\x01\\x1b:OP\\xb0&\\xa5\\\\\\x96H,X\\xa1r3\\xe2.0I&\\xc3\\x11\\x16\\x08`\\xfc\\t!\\xe6U5\\x07$'\n",
      "331278198772544141056209706499848604437109732524708150816206761120222463067209887713060\n",
      "127819\n",
      "87011b\n",
      "8847643\n"
     ]
    }
   ],
   "source": [
    "key = \"aa87011b3a4f50b026a55c96482c58a17233e22e304926c311160860fc0921e6\"\n",
    "print (len(key))\n",
    "tiempo = int(time() / 30)\n",
    "clave = key + str(tiempo)\n",
    "print (clave)\n",
    "print (bytes.fromhex(clave))\n",
    "print (int(clave, 16))\n",
    "print (str(int(clave, 16))[2:8])\n",
    "print (clave[2:8])\n",
    "print (int(clave[2:8], 16))"
   ]
  },
  {
   "cell_type": "code",
   "execution_count": null,
   "metadata": {},
   "outputs": [],
   "source": [
    "import time\n",
    "\n",
    "for i in range (30):\n",
    "    print (int(time.time()))\n",
    "    print (int(time.time()/30))\n",
    "    print (int(time.time()%30))\n",
    "    time.sleep(1)"
   ]
  },
  {
   "cell_type": "code",
   "execution_count": 8,
   "metadata": {},
   "outputs": [
    {
     "name": "stdout",
     "output_type": "stream",
     "text": [
      "64\n"
     ]
    }
   ],
   "source": [
    "from Crypto.Hash import SHA256\n",
    "key = 'pamplona'\n",
    "m = SHA256.new()\n",
    "m.update(key.encode())\n",
    "user_hash = m.digest().hex()\n",
    "print(len(user_hash))"
   ]
  }
 ],
 "metadata": {
  "kernelspec": {
   "display_name": "Python 3.9.2 64-bit",
   "language": "python",
   "name": "python3"
  },
  "language_info": {
   "codemirror_mode": {
    "name": "ipython",
    "version": 3
   },
   "file_extension": ".py",
   "mimetype": "text/x-python",
   "name": "python",
   "nbconvert_exporter": "python",
   "pygments_lexer": "ipython3",
   "version": "3.9.2"
  },
  "orig_nbformat": 4,
  "vscode": {
   "interpreter": {
    "hash": "916dbcbb3f70747c44a77c7bcd40155683ae19c65e1c03b4aa3499c5328201f1"
   }
  }
 },
 "nbformat": 4,
 "nbformat_minor": 2
}
