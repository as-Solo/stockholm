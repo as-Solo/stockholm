{
 "cells": [
  {
   "cell_type": "code",
   "execution_count": 5,
   "metadata": {},
   "outputs": [
    {
     "name": "stdout",
     "output_type": "stream",
     "text": [
      "Requirement already satisfied: pycrypto in /home/solo/.local/lib/python3.9/site-packages (2.6.1)\n"
     ]
    }
   ],
   "source": [
    "!pip install pycrypto"
   ]
  },
  {
   "cell_type": "code",
   "execution_count": 58,
   "metadata": {},
   "outputs": [],
   "source": [
    "from Crypto.Cipher import AES\n",
    "from cryptography.fernet import Fernet"
   ]
  },
  {
   "cell_type": "code",
   "execution_count": 34,
   "metadata": {},
   "outputs": [
    {
     "name": "stdout",
     "output_type": "stream",
     "text": [
      "b'\\xaa\\x87\\x01\\x1b:OP\\xb0&\\xa5\\\\\\x96H,X\\xa1r3\\xe2.0I&\\xc3\\x11\\x16\\x08`\\xfc\\t!\\xe6'\n"
     ]
    }
   ],
   "source": [
    "from Crypto.Hash import SHA256\n",
    "m = SHA256.new()\n",
    "m.update('me la pica un pollo'.encode())\n",
    "key = m.digest()\n",
    "len(key.hex())\n",
    "print (key)"
   ]
  },
  {
   "cell_type": "code",
   "execution_count": 56,
   "metadata": {},
   "outputs": [
    {
     "name": "stdout",
     "output_type": "stream",
     "text": [
      "b'\\xaa\\x87\\x01\\x1b:OP\\xb0&\\xa5\\\\\\x96H,X\\xa1r3\\xe2.0I&\\xc3\\x11\\x16\\x08`\\xfc\\t!\\xe6'\n",
      "b'\\xaa\\x87\\x01\\x1b:OP\\xb0&\\xa5\\\\\\x96H,X\\xa1r3\\xe2.0I&\\xc3\\x11\\x16\\x08`\\xfc\\t!\\xe6'\n",
      "aa87011b3a4f50b026a55c96482c58a17233e22e304926c311160860fc0921e6\n",
      "6d65206c61207069636120756e20706f6c6c6f\n"
     ]
    }
   ],
   "source": [
    "print (key)\n",
    "print(bytes.fromhex(key.hex()))\n",
    "\n",
    "print (key.hex())\n",
    "#print (b'\\x1b:OP'.hex() ,\"     \", b'\\xb0&'.hex())\n",
    "\n",
    "print(\"me la pica un pollo\".encode().hex())"
   ]
  },
  {
   "cell_type": "code",
   "execution_count": 74,
   "metadata": {},
   "outputs": [
    {
     "name": "stdout",
     "output_type": "stream",
     "text": [
      "b'\\xaa\\x87\\x01\\x1b:OP\\xb0&\\xa5\\\\\\x96H,X\\xa1r3\\xe2.0I&\\xc3\\x11\\x16\\x08`\\xfc\\t!\\xe6'\n"
     ]
    }
   ],
   "source": [
    "print(bytes.fromhex(\"aa87011b3a4f50b026a55c96482c58a17233e22e304926c311160860fc0921e6\"))"
   ]
  },
  {
   "cell_type": "code",
   "execution_count": 80,
   "metadata": {},
   "outputs": [
    {
     "name": "stdout",
     "output_type": "stream",
     "text": [
      "71665a6536545f6d4f5a7570636267386c497671536d506b366e6c36783554396e6333454b437a4d577a303d\n"
     ]
    }
   ],
   "source": [
    "mensaje = \"me la pica un pollo\"\n",
    "key = Fernet.generate_key()\n",
    "print (key.hex())\n",
    "f = Fernet(key)\n",
    "#encriptado = f.encrypt(mensaje)"
   ]
  }
 ],
 "metadata": {
  "kernelspec": {
   "display_name": "Python 3.9.2 64-bit",
   "language": "python",
   "name": "python3"
  },
  "language_info": {
   "codemirror_mode": {
    "name": "ipython",
    "version": 3
   },
   "file_extension": ".py",
   "mimetype": "text/x-python",
   "name": "python",
   "nbconvert_exporter": "python",
   "pygments_lexer": "ipython3",
   "version": "3.9.2"
  },
  "orig_nbformat": 4,
  "vscode": {
   "interpreter": {
    "hash": "916dbcbb3f70747c44a77c7bcd40155683ae19c65e1c03b4aa3499c5328201f1"
   }
  }
 },
 "nbformat": 4,
 "nbformat_minor": 2
}
